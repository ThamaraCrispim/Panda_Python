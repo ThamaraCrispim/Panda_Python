{
  "nbformat": 4,
  "nbformat_minor": 0,
  "metadata": {
    "colab": {
      "provenance": [],
      "include_colab_link": true
    },
    "kernelspec": {
      "name": "python3",
      "display_name": "Python 3"
    },
    "language_info": {
      "name": "python"
    }
  },
  "cells": [
    {
      "cell_type": "markdown",
      "metadata": {
        "id": "view-in-github",
        "colab_type": "text"
      },
      "source": [
        "<a href=\"https://colab.research.google.com/github/ThamaraCrispim/Panda_Python/blob/main/Trabalho_rec_2024_1.ipynb\" target=\"_parent\"><img src=\"https://colab.research.google.com/assets/colab-badge.svg\" alt=\"Open In Colab\"/></a>"
      ]
    },
    {
      "cell_type": "markdown",
      "source": [
        "\n",
        "# Impacto da Aromatização com Lavanda: Uma Análise Comparativa entre Ambientes Aromatizados e Sem Aroma no Restaurante Recanto do Sabor\n",
        "\n",
        "**Aluno(a):** Thamara Gabriella Crispim Bezerra - 802666\n"
      ],
      "metadata": {
        "id": "0VBUfqQ2S6xP"
      }
    },
    {
      "cell_type": "markdown",
      "source": [
        "as imports"
      ],
      "metadata": {
        "id": "c-NuGh2raalV"
      }
    },
    {
      "cell_type": "code",
      "source": [
        "import seaborn as sns\n",
        "import matplotlib.pyplot as plt\n",
        "import numpy as np\n",
        "\n"
      ],
      "metadata": {
        "id": "h-iGex1HV7UL"
      },
      "execution_count": null,
      "outputs": []
    },
    {
      "cell_type": "code",
      "execution_count": null,
      "metadata": {
        "id": "6sPtDtI4Vi3Z"
      },
      "outputs": [],
      "source": [
        "\n",
        "import matplotlib.pyplot as plt\n",
        "import seaborn as sns"
      ]
    },
    {
      "cell_type": "code",
      "source": [
        "import pandas as pd\n"
      ],
      "metadata": {
        "id": "cFKFdfUnln_i"
      },
      "execution_count": null,
      "outputs": []
    },
    {
      "cell_type": "code",
      "source": [
        "from google.colab import drive\n"
      ],
      "metadata": {
        "id": "_LpSH6hf6KUT"
      },
      "execution_count": null,
      "outputs": []
    },
    {
      "cell_type": "markdown",
      "source": [
        "Montar o Google Drive no ambiente do Colab\n"
      ],
      "metadata": {
        "id": "2z0Ox-5FapAI"
      }
    },
    {
      "cell_type": "code",
      "source": [
        "\n",
        "dadosthamara = pd.read_csv(\"/content/drive/MyDrive/Estela 2024 1/Dados Thamara.xls - goodsmells.csv\")\n"
      ],
      "metadata": {
        "id": "eVFrcy20di0k"
      },
      "execution_count": null,
      "outputs": []
    },
    {
      "cell_type": "markdown",
      "source": [
        "# Introdução\n",
        "\n",
        "Em um cenário altamente competitivo no setor de restaurantes, onde a diferenciação é essencial para o sucesso e a fidelização dos clientes, Paulo, proprietário de uma franquia de restaurantes, estava sempre em busca de novidades para proporcionar uma experiência memorável aos seus frequentadores. Ao ler um artigo na revista **Sabores & Aromas** sobre os benefícios da lavanda, que são relaxamento, melhoria do ambiente, mascaramento de odores, estímulo ao apetite e criação de uma marca sensorial única e memorável, Paulo, conhecido por sua inclinação pioneira em adotar inovações, viu uma oportunidade de aprimorar a experiência gastronômica oferecida em seus estabelecimentos.\n",
        "\n",
        "Confiante no potencial dessa abordagem, Paulo decidiu conduzir sua própria pesquisa, contratando um consultor estatístico, para garantir a eficácia e a viabilidade dessa iniciativa. O restaurante escolhido para a realização do estudo foi o Recanto do Sabor, considerado o melhor da região e localizado na cidade de São Carlos. Além disso, o restaurante possui quatro salas similares, o que facilita a realização da pesquisa em condições controladas.\n",
        "\n",
        "Com isso, dois desses ambientes foram designados para receber a aplicação do aroma de lavanda, enquanto os outros dois permaneceram sem aroma. Ao longo de seis noites.\n",
        "\n",
        "# Objetivo\n",
        "\n",
        "Após discussões detalhadas entre o consultor e Paulo, ficou decidido que o objetivo central da pesquisa seria explorar minuciosamente a resposta dos clientes do restaurante Recanto do Sabor ao aroma de lavanda. Eles estão interessados em entender como esse aroma específico pode afetar não apenas a percepção sensorial dos clientes, mas também seu comportamento enquanto desfrutam da experiência gastronômica oferecida pelo estabelecimento. A equipe está ansiosa para analisar como a introdução desse aroma influencia a duração da permanência dos clientes no restaurante, bem como seu nível geral de satisfação. Essas informações detalhadas serão essenciais para guiar as estratégias futuras de diferenciação e aprimoramento da experiência oferecida pelo Recanto do Sabor.\n",
        "\n",
        "# Material\n",
        "\n",
        "Foram fornecidos dados relativos a 88 clientes do restaurante Recanto do Sabor durante 6 noites. Esses dados incluem informações sobre a presença ou não do aroma de lavanda, o tempo de permanência dos clientes no restaurante e os gastos em reais de cada cliente. A variável 'aroma' indica se o aroma específico estava presente ou não no restaurante e é uma medida qualitativa nominal.\n",
        "\n",
        "A variável 'tempo' representa a quantidade de minutos que cada cliente passou no restaurante ao longo das 6 noites e é considerada uma medida quantitativa contínua. A variável 'reais' representa o valor gasto em reais por cada cliente durante suas visitas ao longo das 6 noites e também é uma medida quantitativa contínua. Os dados estão parcialmente representados na Tabela 1.\n",
        "\n",
        "### Tabela 1.1 Dados dos Clientes do Restaurante Recanto do Sabor\n",
        "\n",
        "\n",
        "\n"
      ],
      "metadata": {
        "id": "55gP-GofQYdl"
      }
    },
    {
      "cell_type": "code",
      "source": [
        "# Exibindo todos os dados\n",
        "print(\"dados\")\n",
        "display(dadosthamara)"
      ],
      "metadata": {
        "colab": {
          "base_uri": "https://localhost:8080/",
          "height": 441
        },
        "id": "TK9fEFTrep1-",
        "outputId": "8cd67c04-dea1-4616-a1a2-d63dea65077c"
      },
      "execution_count": null,
      "outputs": [
        {
          "output_type": "stream",
          "name": "stdout",
          "text": [
            "dados\n"
          ]
        },
        {
          "output_type": "display_data",
          "data": {
            "text/plain": [
              "        aroma  Tempo  reais                                         Unnamed: 3\n",
              "0     lavanda     92    219                                                NaN\n",
              "1     lavanda    126    185                                                NaN\n",
              "2     lavanda    114    223                                                ...\n",
              "3     lavanda    106    219                                                NaN\n",
              "4     lavanda     89    185                                                NaN\n",
              "..        ...    ...    ...                                                ...\n",
              "83  sem aroma    118    185                                                NaN\n",
              "84  sem aroma     87    159                                                NaN\n",
              "85  sem aroma    101    255                                                NaN\n",
              "86  sem aroma     75    129                                                NaN\n",
              "87  sem aroma     86    159                                                NaN\n",
              "\n",
              "[88 rows x 4 columns]"
            ],
            "text/html": [
              "\n",
              "  <div id=\"df-c5246ac5-5b44-4306-8e33-2e924010b6a0\" class=\"colab-df-container\">\n",
              "    <div>\n",
              "<style scoped>\n",
              "    .dataframe tbody tr th:only-of-type {\n",
              "        vertical-align: middle;\n",
              "    }\n",
              "\n",
              "    .dataframe tbody tr th {\n",
              "        vertical-align: top;\n",
              "    }\n",
              "\n",
              "    .dataframe thead th {\n",
              "        text-align: right;\n",
              "    }\n",
              "</style>\n",
              "<table border=\"1\" class=\"dataframe\">\n",
              "  <thead>\n",
              "    <tr style=\"text-align: right;\">\n",
              "      <th></th>\n",
              "      <th>aroma</th>\n",
              "      <th>Tempo</th>\n",
              "      <th>reais</th>\n",
              "      <th>Unnamed: 3</th>\n",
              "    </tr>\n",
              "  </thead>\n",
              "  <tbody>\n",
              "    <tr>\n",
              "      <th>0</th>\n",
              "      <td>lavanda</td>\n",
              "      <td>92</td>\n",
              "      <td>219</td>\n",
              "      <td>NaN</td>\n",
              "    </tr>\n",
              "    <tr>\n",
              "      <th>1</th>\n",
              "      <td>lavanda</td>\n",
              "      <td>126</td>\n",
              "      <td>185</td>\n",
              "      <td>NaN</td>\n",
              "    </tr>\n",
              "    <tr>\n",
              "      <th>2</th>\n",
              "      <td>lavanda</td>\n",
              "      <td>114</td>\n",
              "      <td>223</td>\n",
              "      <td>...</td>\n",
              "    </tr>\n",
              "    <tr>\n",
              "      <th>3</th>\n",
              "      <td>lavanda</td>\n",
              "      <td>106</td>\n",
              "      <td>219</td>\n",
              "      <td>NaN</td>\n",
              "    </tr>\n",
              "    <tr>\n",
              "      <th>4</th>\n",
              "      <td>lavanda</td>\n",
              "      <td>89</td>\n",
              "      <td>185</td>\n",
              "      <td>NaN</td>\n",
              "    </tr>\n",
              "    <tr>\n",
              "      <th>...</th>\n",
              "      <td>...</td>\n",
              "      <td>...</td>\n",
              "      <td>...</td>\n",
              "      <td>...</td>\n",
              "    </tr>\n",
              "    <tr>\n",
              "      <th>83</th>\n",
              "      <td>sem aroma</td>\n",
              "      <td>118</td>\n",
              "      <td>185</td>\n",
              "      <td>NaN</td>\n",
              "    </tr>\n",
              "    <tr>\n",
              "      <th>84</th>\n",
              "      <td>sem aroma</td>\n",
              "      <td>87</td>\n",
              "      <td>159</td>\n",
              "      <td>NaN</td>\n",
              "    </tr>\n",
              "    <tr>\n",
              "      <th>85</th>\n",
              "      <td>sem aroma</td>\n",
              "      <td>101</td>\n",
              "      <td>255</td>\n",
              "      <td>NaN</td>\n",
              "    </tr>\n",
              "    <tr>\n",
              "      <th>86</th>\n",
              "      <td>sem aroma</td>\n",
              "      <td>75</td>\n",
              "      <td>129</td>\n",
              "      <td>NaN</td>\n",
              "    </tr>\n",
              "    <tr>\n",
              "      <th>87</th>\n",
              "      <td>sem aroma</td>\n",
              "      <td>86</td>\n",
              "      <td>159</td>\n",
              "      <td>NaN</td>\n",
              "    </tr>\n",
              "  </tbody>\n",
              "</table>\n",
              "<p>88 rows × 4 columns</p>\n",
              "</div>\n",
              "    <div class=\"colab-df-buttons\">\n",
              "\n",
              "  <div class=\"colab-df-container\">\n",
              "    <button class=\"colab-df-convert\" onclick=\"convertToInteractive('df-c5246ac5-5b44-4306-8e33-2e924010b6a0')\"\n",
              "            title=\"Convert this dataframe to an interactive table.\"\n",
              "            style=\"display:none;\">\n",
              "\n",
              "  <svg xmlns=\"http://www.w3.org/2000/svg\" height=\"24px\" viewBox=\"0 -960 960 960\">\n",
              "    <path d=\"M120-120v-720h720v720H120Zm60-500h600v-160H180v160Zm220 220h160v-160H400v160Zm0 220h160v-160H400v160ZM180-400h160v-160H180v160Zm440 0h160v-160H620v160ZM180-180h160v-160H180v160Zm440 0h160v-160H620v160Z\"/>\n",
              "  </svg>\n",
              "    </button>\n",
              "\n",
              "  <style>\n",
              "    .colab-df-container {\n",
              "      display:flex;\n",
              "      gap: 12px;\n",
              "    }\n",
              "\n",
              "    .colab-df-convert {\n",
              "      background-color: #E8F0FE;\n",
              "      border: none;\n",
              "      border-radius: 50%;\n",
              "      cursor: pointer;\n",
              "      display: none;\n",
              "      fill: #1967D2;\n",
              "      height: 32px;\n",
              "      padding: 0 0 0 0;\n",
              "      width: 32px;\n",
              "    }\n",
              "\n",
              "    .colab-df-convert:hover {\n",
              "      background-color: #E2EBFA;\n",
              "      box-shadow: 0px 1px 2px rgba(60, 64, 67, 0.3), 0px 1px 3px 1px rgba(60, 64, 67, 0.15);\n",
              "      fill: #174EA6;\n",
              "    }\n",
              "\n",
              "    .colab-df-buttons div {\n",
              "      margin-bottom: 4px;\n",
              "    }\n",
              "\n",
              "    [theme=dark] .colab-df-convert {\n",
              "      background-color: #3B4455;\n",
              "      fill: #D2E3FC;\n",
              "    }\n",
              "\n",
              "    [theme=dark] .colab-df-convert:hover {\n",
              "      background-color: #434B5C;\n",
              "      box-shadow: 0px 1px 3px 1px rgba(0, 0, 0, 0.15);\n",
              "      filter: drop-shadow(0px 1px 2px rgba(0, 0, 0, 0.3));\n",
              "      fill: #FFFFFF;\n",
              "    }\n",
              "  </style>\n",
              "\n",
              "    <script>\n",
              "      const buttonEl =\n",
              "        document.querySelector('#df-c5246ac5-5b44-4306-8e33-2e924010b6a0 button.colab-df-convert');\n",
              "      buttonEl.style.display =\n",
              "        google.colab.kernel.accessAllowed ? 'block' : 'none';\n",
              "\n",
              "      async function convertToInteractive(key) {\n",
              "        const element = document.querySelector('#df-c5246ac5-5b44-4306-8e33-2e924010b6a0');\n",
              "        const dataTable =\n",
              "          await google.colab.kernel.invokeFunction('convertToInteractive',\n",
              "                                                    [key], {});\n",
              "        if (!dataTable) return;\n",
              "\n",
              "        const docLinkHtml = 'Like what you see? Visit the ' +\n",
              "          '<a target=\"_blank\" href=https://colab.research.google.com/notebooks/data_table.ipynb>data table notebook</a>'\n",
              "          + ' to learn more about interactive tables.';\n",
              "        element.innerHTML = '';\n",
              "        dataTable['output_type'] = 'display_data';\n",
              "        await google.colab.output.renderOutput(dataTable, element);\n",
              "        const docLink = document.createElement('div');\n",
              "        docLink.innerHTML = docLinkHtml;\n",
              "        element.appendChild(docLink);\n",
              "      }\n",
              "    </script>\n",
              "  </div>\n",
              "\n",
              "\n",
              "<div id=\"df-d432feef-b051-402c-bffb-48b2414fbf75\">\n",
              "  <button class=\"colab-df-quickchart\" onclick=\"quickchart('df-d432feef-b051-402c-bffb-48b2414fbf75')\"\n",
              "            title=\"Suggest charts\"\n",
              "            style=\"display:none;\">\n",
              "\n",
              "<svg xmlns=\"http://www.w3.org/2000/svg\" height=\"24px\"viewBox=\"0 0 24 24\"\n",
              "     width=\"24px\">\n",
              "    <g>\n",
              "        <path d=\"M19 3H5c-1.1 0-2 .9-2 2v14c0 1.1.9 2 2 2h14c1.1 0 2-.9 2-2V5c0-1.1-.9-2-2-2zM9 17H7v-7h2v7zm4 0h-2V7h2v10zm4 0h-2v-4h2v4z\"/>\n",
              "    </g>\n",
              "</svg>\n",
              "  </button>\n",
              "\n",
              "<style>\n",
              "  .colab-df-quickchart {\n",
              "      --bg-color: #E8F0FE;\n",
              "      --fill-color: #1967D2;\n",
              "      --hover-bg-color: #E2EBFA;\n",
              "      --hover-fill-color: #174EA6;\n",
              "      --disabled-fill-color: #AAA;\n",
              "      --disabled-bg-color: #DDD;\n",
              "  }\n",
              "\n",
              "  [theme=dark] .colab-df-quickchart {\n",
              "      --bg-color: #3B4455;\n",
              "      --fill-color: #D2E3FC;\n",
              "      --hover-bg-color: #434B5C;\n",
              "      --hover-fill-color: #FFFFFF;\n",
              "      --disabled-bg-color: #3B4455;\n",
              "      --disabled-fill-color: #666;\n",
              "  }\n",
              "\n",
              "  .colab-df-quickchart {\n",
              "    background-color: var(--bg-color);\n",
              "    border: none;\n",
              "    border-radius: 50%;\n",
              "    cursor: pointer;\n",
              "    display: none;\n",
              "    fill: var(--fill-color);\n",
              "    height: 32px;\n",
              "    padding: 0;\n",
              "    width: 32px;\n",
              "  }\n",
              "\n",
              "  .colab-df-quickchart:hover {\n",
              "    background-color: var(--hover-bg-color);\n",
              "    box-shadow: 0 1px 2px rgba(60, 64, 67, 0.3), 0 1px 3px 1px rgba(60, 64, 67, 0.15);\n",
              "    fill: var(--button-hover-fill-color);\n",
              "  }\n",
              "\n",
              "  .colab-df-quickchart-complete:disabled,\n",
              "  .colab-df-quickchart-complete:disabled:hover {\n",
              "    background-color: var(--disabled-bg-color);\n",
              "    fill: var(--disabled-fill-color);\n",
              "    box-shadow: none;\n",
              "  }\n",
              "\n",
              "  .colab-df-spinner {\n",
              "    border: 2px solid var(--fill-color);\n",
              "    border-color: transparent;\n",
              "    border-bottom-color: var(--fill-color);\n",
              "    animation:\n",
              "      spin 1s steps(1) infinite;\n",
              "  }\n",
              "\n",
              "  @keyframes spin {\n",
              "    0% {\n",
              "      border-color: transparent;\n",
              "      border-bottom-color: var(--fill-color);\n",
              "      border-left-color: var(--fill-color);\n",
              "    }\n",
              "    20% {\n",
              "      border-color: transparent;\n",
              "      border-left-color: var(--fill-color);\n",
              "      border-top-color: var(--fill-color);\n",
              "    }\n",
              "    30% {\n",
              "      border-color: transparent;\n",
              "      border-left-color: var(--fill-color);\n",
              "      border-top-color: var(--fill-color);\n",
              "      border-right-color: var(--fill-color);\n",
              "    }\n",
              "    40% {\n",
              "      border-color: transparent;\n",
              "      border-right-color: var(--fill-color);\n",
              "      border-top-color: var(--fill-color);\n",
              "    }\n",
              "    60% {\n",
              "      border-color: transparent;\n",
              "      border-right-color: var(--fill-color);\n",
              "    }\n",
              "    80% {\n",
              "      border-color: transparent;\n",
              "      border-right-color: var(--fill-color);\n",
              "      border-bottom-color: var(--fill-color);\n",
              "    }\n",
              "    90% {\n",
              "      border-color: transparent;\n",
              "      border-bottom-color: var(--fill-color);\n",
              "    }\n",
              "  }\n",
              "</style>\n",
              "\n",
              "  <script>\n",
              "    async function quickchart(key) {\n",
              "      const quickchartButtonEl =\n",
              "        document.querySelector('#' + key + ' button');\n",
              "      quickchartButtonEl.disabled = true;  // To prevent multiple clicks.\n",
              "      quickchartButtonEl.classList.add('colab-df-spinner');\n",
              "      try {\n",
              "        const charts = await google.colab.kernel.invokeFunction(\n",
              "            'suggestCharts', [key], {});\n",
              "      } catch (error) {\n",
              "        console.error('Error during call to suggestCharts:', error);\n",
              "      }\n",
              "      quickchartButtonEl.classList.remove('colab-df-spinner');\n",
              "      quickchartButtonEl.classList.add('colab-df-quickchart-complete');\n",
              "    }\n",
              "    (() => {\n",
              "      let quickchartButtonEl =\n",
              "        document.querySelector('#df-d432feef-b051-402c-bffb-48b2414fbf75 button');\n",
              "      quickchartButtonEl.style.display =\n",
              "        google.colab.kernel.accessAllowed ? 'block' : 'none';\n",
              "    })();\n",
              "  </script>\n",
              "</div>\n",
              "    </div>\n",
              "  </div>\n"
            ],
            "application/vnd.google.colaboratory.intrinsic+json": {
              "type": "dataframe",
              "variable_name": "dadosthamara",
              "summary": "{\n  \"name\": \"dadosthamara\",\n  \"rows\": 88,\n  \"fields\": [\n    {\n      \"column\": \"aroma\",\n      \"properties\": {\n        \"dtype\": \"category\",\n        \"num_unique_values\": 2,\n        \"samples\": [\n          \"sem aroma\",\n          \"lavanda\"\n        ],\n        \"semantic_type\": \"\",\n        \"description\": \"\"\n      }\n    },\n    {\n      \"column\": \"Tempo\",\n      \"properties\": {\n        \"dtype\": \"number\",\n        \"std\": 16,\n        \"min\": 56,\n        \"max\": 137,\n        \"num_unique_values\": 48,\n        \"samples\": [\n          75,\n          72\n        ],\n        \"semantic_type\": \"\",\n        \"description\": \"\"\n      }\n    },\n    {\n      \"column\": \"reais\",\n      \"properties\": {\n        \"dtype\": \"number\",\n        \"std\": 27,\n        \"min\": 129,\n        \"max\": 259,\n        \"num_unique_values\": 13,\n        \"samples\": [\n          205,\n          207\n        ],\n        \"semantic_type\": \"\",\n        \"description\": \"\"\n      }\n    },\n    {\n      \"column\": \"Unnamed: 3\",\n      \"properties\": {\n        \"dtype\": \"category\",\n        \"num_unique_values\": 1,\n        \"samples\": [\n          \"                                                                                                                                                                                                                                                                                                                                                                                                                                                                                                                                    \"\n        ],\n        \"semantic_type\": \"\",\n        \"description\": \"\"\n      }\n    }\n  ]\n}"
            }
          },
          "metadata": {}
        }
      ]
    },
    {
      "cell_type": "code",
      "source": [
        "# Verificando se há valores nulos no DataFrame dadosthamara\n",
        "valores_nulos = dadosthamara.isnull().sum()\n",
        "\n",
        "# Exibindo os valores nulos\n",
        "print(\"Valores Nulos no DataFrame:\")\n",
        "print(valores_nulos)"
      ],
      "metadata": {
        "colab": {
          "base_uri": "https://localhost:8080/"
        },
        "id": "UmWc9427gqMU",
        "outputId": "8bea68e2-3942-48a4-d32e-d7efedc0abc0"
      },
      "execution_count": null,
      "outputs": [
        {
          "output_type": "stream",
          "name": "stdout",
          "text": [
            "Valores Nulos no DataFrame:\n",
            "aroma          0\n",
            "Tempo          0\n",
            "reais          0\n",
            "Unnamed: 3    87\n",
            "dtype: int64\n"
          ]
        }
      ]
    },
    {
      "cell_type": "code",
      "source": [
        "# Remova a coluna 'Unnamed: 3' se não for necessária\n",
        "dadosthamara.drop(columns=['Unnamed: 3'], inplace=True)\n",
        "\n"
      ],
      "metadata": {
        "id": "cExwbkTavOfs"
      },
      "execution_count": null,
      "outputs": []
    },
    {
      "cell_type": "code",
      "source": [
        "# Listando as colunas presentes no DataFrame\n",
        "print(\"Colunas presentes no DataFrame:\")\n",
        "print(dadosthamara.columns)\n"
      ],
      "metadata": {
        "colab": {
          "base_uri": "https://localhost:8080/"
        },
        "id": "gywODtVyOtCq",
        "outputId": "f1a4a64d-a908-443a-c51c-8127e3475787"
      },
      "execution_count": null,
      "outputs": [
        {
          "output_type": "stream",
          "name": "stdout",
          "text": [
            "Colunas presentes no DataFrame:\n",
            "Index(['aroma', 'Tempo', 'reais'], dtype='object')\n"
          ]
        }
      ]
    },
    {
      "cell_type": "code",
      "source": [
        "print(\"Número de variáveis no banco de dados:\", dadosthamara.shape[1])\n",
        "print(\"Número de observações no banco de dados:\", dadosthamara.shape[0])\n",
        "\n"
      ],
      "metadata": {
        "id": "k0JBU1pFvOjL",
        "colab": {
          "base_uri": "https://localhost:8080/"
        },
        "outputId": "cd9cfaf6-ebbb-4048-a93a-2c85ff45956e"
      },
      "execution_count": null,
      "outputs": [
        {
          "output_type": "stream",
          "name": "stdout",
          "text": [
            "Número de variáveis no banco de dados: 3\n",
            "Número de observações no banco de dados: 88\n"
          ]
        }
      ]
    },
    {
      "cell_type": "markdown",
      "source": [
        "# Metodologia\n",
        "\n",
        "Para começar, o consultor classificou as variáveis para entender melhor quais ferramentas seriam mais adequadas para a análise. Para as variáveis quantitativas, que incluem o tempo de permanência no restaurante e o dinheiro gasto no próprio, o consultor utilizou medidas resumo de variabilidade, como média, desvios e variâncias, para resumir as características principais do conjunto de dados. Além disso, foram utilizadas medidas resumo de centro, como quartis, mediana e intervalo interquartil, para analisar o comportamento dos dados tanto na tabela quanto nos gráficos.\n",
        "\n",
        "Os gráficos escolhidos foram os boxplots para comparar variáveis qualitativas com quantitativas e gráficos de dispersão para variáveis quantitativas. Se necessário, será utilizado o Coeficiente de Correlação Linear de Pearson (corr(x,y)) para analisar a relação entre o tempo em minutos e a quantidade de reais gastos no restaurante com Lavanda ou sem aroma.\n",
        "\n",
        "## 4.1 - Boxplot\n",
        "\n",
        "O boxplot, também conhecido como diagrama de caixa, é um gráfico que permite visualizar a distribuição e valores discrepantes dos dados. Ele é composto por cinco elementos: a mediana, os quartis (Q1 e Q3), limite inferior e superior (LI e LS, respectivamente) e os valores discrepantes (outliers).\n",
        "\n",
        "- **Mediana:** É o valor que divide o conjunto de dados em duas partes iguais.\n",
        "- **Quartis:** São os valores que dividem o conjunto de dados em quatro partes iguais.\n",
        "- **Limite Superior e Inferior:** São fornecidos, respectivamente, por Q3 + 1,5(IIQ) e Q1 - 1,5(IIQ), onde o IIQ é o intervalo interquartil, que é a diferença entre o terceiro e o primeiro quartil.\n",
        "- **Valores Discrepantes:** São aqueles que são considerados atípicos dos demais valores.\n",
        "\n",
        "## 4.2 - Gráfico de Dispersão\n",
        "\n",
        "Um gráfico de dispersão é usado para mostrar a relação entre duas variáveis quantitativas do mesmo grupo. Se os pontos formarem uma linha reta inclinada para cima, isso indica que as duas variáveis estão aumentando juntas. Se a linha for inclinada para baixo, uma variável está aumentando enquanto a outra está diminuindo. Caso a nuvem de pontos esteja espalhada sem formar uma linha, não há uma relação linear entre as variáveis.\n",
        "\n",
        "Para avaliar essa dependência, usamos o Coeficiente de Correlação Linear de Pearson (representado por corr(x,y) ou r), calculado da seguinte maneira:\n",
        "\n",
        "\\[ r = \\frac{\\sum_{i=1}^{n} (x_i y_i) - n \\overline{x} \\overline{y}}{\\sqrt{(\\sum_{i=1}^{n} x_i^2 - n \\overline{x}^2) (\\sum_{i=1}^{n} y_i^2 - n \\overline{y}^2)}} = \\frac{\\text{cov}(x,y)}{\\text{dp}(x) \\cdot \\text{dp}(y)} \\]\n",
        "\n",
        "Onde:\n",
        "- \\[ \\text{cov}(x,y) = \\frac{\\sum_{i=1}^{n} (x_i y_i) - n \\overline{x} \\overline{y}}{n - 1} \\]\n",
        "- \\[ \\text{dp}(x) = \\sqrt{\\frac{\\sum_{i=1}^{n} x_i^2 - n \\overline{x}^2}{n - 1}} \\]\n",
        "- \\[ \\text{dp}(y) = \\sqrt{\\frac{\\sum_{i=1}^{n} y_i^2 - n \\overline{y}^2}{n - 1}} \\]\n",
        "\n",
        "Onde:\n",
        "- \\( x \\): variável independente\n",
        "- \\( y \\): variável dependente\n",
        "- \\( \\text{cov}(x,y) \\): covariância de x e y\n",
        "- \\( \\text{dp}(x) \\): desvio padrão de x\n",
        "- \\( \\text{dp}(y) \\): desvio padrão de y\n",
        "- \\( \\overline{x} \\): média de x\n",
        "- \\( \\overline{y} \\): média de y\n",
        "- \\( n \\): número de observações\n",
        "\n",
        "Caso seja possível calcular essa correlação, será possível criar o seguinte modelo linear:\n",
        "\n",
        "\\[ y_i = a + b x_i \\]\n",
        "\n",
        "Em que:\n",
        "- \\( a \\) representa o valor esperado para a variável dependente \\( y_i \\) quando \\( x = 0 \\)\n",
        "- \\( b \\) representa o acréscimo esperado na variável resposta \\( y \\) quando a variável explicativa \\( x_i \\) é acrescida em uma unidade\n",
        "\n",
        "As constantes \\( a \\) e \\( b \\) são calculadas da seguinte forma:\n",
        "\\[ b = \\frac{\\sum_{i=1}^{n} (x_i y_i) - n \\overline{x} \\overline{y}}{\\sum_{i=1}^{n} x_i^2 - n \\overline{x}^2} = r \\cdot \\frac{\\text{dp}(y)}{\\text{dp}(x)} \\]\n",
        "\\[ a = \\overline{y} - b \\overline{x} \\]\n"
      ],
      "metadata": {
        "id": "PIf-yukERCcW"
      }
    },
    {
      "cell_type": "markdown",
      "source": [
        "**Resultados**"
      ],
      "metadata": {
        "id": "b0KXuV6KRXJc"
      }
    },
    {
      "cell_type": "code",
      "source": [
        "# Filtrando as observações onde 'aroma' é 'sem aroma'\n",
        "dados_sem_aroma = dadosthamara[dadosthamara['aroma'] == 'sem aroma']\n",
        "\n",
        "# Selecionando as colunas 'Tempo' e 'reais' para as observações onde 'aroma' é 'sem aroma'\n",
        "variaveis_sem_aroma = dados_sem_aroma[['Tempo', 'reais']]\n",
        "\n",
        "# Calculando medidas de resumo para as variáveis 'Tempo' e 'reais'\n",
        "medidas_resumo_sem_aroma = variaveis_sem_aroma.describe().round(2)\n",
        "\n",
        "# Calculando mediana\n",
        "mediana_sem_aroma = variaveis_sem_aroma.median().round(2)\n",
        "\n",
        "# Calculando quartis\n",
        "Q1_sem_aroma = variaveis_sem_aroma.quantile(0.25).round(2)\n",
        "Q3_sem_aroma = variaveis_sem_aroma.quantile(0.75).round(2)\n",
        "\n",
        "# Calculando variância e desvio padrão\n",
        "variancia_sem_aroma = variaveis_sem_aroma.var().round(2)\n",
        "desvio_padrao_sem_aroma = variaveis_sem_aroma.std().round(2)\n",
        "\n",
        "# Calculando Coeficiente de Variação (CV)\n",
        "CV_sem_aroma = ((desvio_padrao_sem_aroma / medidas_resumo_sem_aroma.loc['mean']) * 100).round(2)\n",
        "print(CV_sem_aroma)\n",
        "# Calculando o Interquartile Range (IIQ)\n",
        "IIQ_sem_aroma = (Q3_sem_aroma - Q1_sem_aroma).round(2)\n",
        "\n",
        "# Calculando limites superior e inferior para identificar outliers\n",
        "limite_superior_sem_aroma = (Q3_sem_aroma + 1.5 * IIQ_sem_aroma).round(2)\n",
        "limite_inferior_sem_aroma = (Q1_sem_aroma - 1.5 * IIQ_sem_aroma).round(2)\n",
        "\n",
        "# Exibindo todas as medidas de resumo para as pessoas que indicaram 'sem aroma'\n",
        "print(\"Medidas de resumo para 'Tempo' e 'reais' das pessoas que indicaram 'sem aroma':\")\n",
        "print(medidas_resumo_sem_aroma)\n",
        "print(\"\\nMediana:\")\n",
        "print(mediana_sem_aroma)\n",
        "print(\"\\nQuartis:\")\n",
        "print(\"Q1:\\n\", Q1_sem_aroma)\n",
        "print(\"Q3:\\n\", Q3_sem_aroma)\n",
        "print(\"\\nVariância:\")\n",
        "print(variancia_sem_aroma)\n",
        "print(\"\\nDesvio Padrão:\")\n",
        "print(desvio_padrao_sem_aroma)\n",
        "print(\"\\nCoeficiente de Variação (CV):\")\n",
        "print(CV_sem_aroma)\n",
        "print(\"\\nIntervalo Interquartil (IIQ):\")\n",
        "print(IIQ_sem_aroma)\n",
        "print(\"\\nLimites para identificação de outliers:\")\n",
        "print(\"Limite Superior:\\n\", limite_superior_sem_aroma)\n",
        "print(\"Limite Inferior:\\n\", limite_inferior_sem_aroma)\n"
      ],
      "metadata": {
        "colab": {
          "base_uri": "https://localhost:8080/"
        },
        "id": "5gjrgnrvRTwg",
        "outputId": "47d6ed14-31f7-4e8f-c5c4-df215e7a6149"
      },
      "execution_count": null,
      "outputs": [
        {
          "output_type": "stream",
          "name": "stdout",
          "text": [
            "Tempo    17.32\n",
            "reais    13.84\n",
            "dtype: float64\n",
            "Medidas de resumo para 'Tempo' e 'reais' das pessoas que indicaram 'sem aroma':\n",
            "        Tempo   reais\n",
            "count   47.00   47.00\n",
            "mean    90.23  178.87\n",
            "std     15.63   24.76\n",
            "min     56.00  129.00\n",
            "25%     81.00  159.00\n",
            "50%     91.00  185.00\n",
            "75%    102.00  185.00\n",
            "max    121.00  259.00\n",
            "\n",
            "Mediana:\n",
            "Tempo     91.0\n",
            "reais    185.0\n",
            "dtype: float64\n",
            "\n",
            "Quartis:\n",
            "Q1:\n",
            " Tempo     81.0\n",
            "reais    159.0\n",
            "Name: 0.25, dtype: float64\n",
            "Q3:\n",
            " Tempo    102.0\n",
            "reais    185.0\n",
            "Name: 0.75, dtype: float64\n",
            "\n",
            "Variância:\n",
            "Tempo    244.27\n",
            "reais    613.11\n",
            "dtype: float64\n",
            "\n",
            "Desvio Padrão:\n",
            "Tempo    15.63\n",
            "reais    24.76\n",
            "dtype: float64\n",
            "\n",
            "Coeficiente de Variação (CV):\n",
            "Tempo    17.32\n",
            "reais    13.84\n",
            "dtype: float64\n",
            "\n",
            "Intervalo Interquartil (IIQ):\n",
            "Tempo    21.0\n",
            "reais    26.0\n",
            "dtype: float64\n",
            "\n",
            "Limites para identificação de outliers:\n",
            "Limite Superior:\n",
            " Tempo    133.5\n",
            "reais    224.0\n",
            "dtype: float64\n",
            "Limite Inferior:\n",
            " Tempo     49.5\n",
            "reais    120.0\n",
            "dtype: float64\n"
          ]
        }
      ]
    },
    {
      "cell_type": "markdown",
      "source": [
        "\n"
      ],
      "metadata": {
        "id": "zdV1CgLVYg_x"
      }
    },
    {
      "cell_type": "code",
      "source": [
        "# Filtrando as observações onde 'aroma' é 'lavanda'\n",
        "dados_lavada = dadosthamara[dadosthamara['aroma'] == 'lavanda']\n",
        "\n",
        "# Selecionando as colunas 'Tempo' e 'reais' para as observações onde 'aroma' é 'lavanda'\n",
        "variaveis_selecionadas = dados_lavada[['Tempo', 'reais']]\n",
        "\n",
        "# Calculando medidas de resumo para as variáveis 'Tempo' e 'reais'\n",
        "medidas_resumo = variaveis_selecionadas.describe().round(2)\n",
        "\n",
        "# Calculando mediana\n",
        "mediana = variaveis_selecionadas.median().round(2)\n",
        "\n",
        "# Calculando quartis\n",
        "Q1 = variaveis_selecionadas.quantile(0.25).round(2)\n",
        "Q3 = variaveis_selecionadas.quantile(0.75).round(2)\n",
        "\n",
        "# Calculando variância e desvio padrão\n",
        "variancia = variaveis_selecionadas.var().round(2)\n",
        "desvio_padrao = variaveis_selecionadas.std().round(2)\n",
        "\n",
        "# Calculando Coeficiente de Variação (CV)\n",
        "CV = ((desvio_padrao / medidas_resumo.loc['mean']) * 100).round(2)\n",
        "\n",
        "# Calculando o Interquartile Range (IIQ)\n",
        "IIQ = (Q3 - Q1).round(2)\n",
        "\n",
        "# Calculando limites superior e inferior para identificar outliers\n",
        "limite_superior = (Q3 + 1.5 * IIQ).round(2)\n",
        "limite_inferior = (Q1 - 1.5 * IIQ).round(2)\n",
        "\n",
        "# Exibindo todas as medidas de resumo para as pessoas que usaram lavada\n",
        "print(\"Medidas de resumo para 'Tempo' e 'reais' das pessoas que usaram lavada:\")\n",
        "print(medidas_resumo)\n",
        "print(\"\\nMediana:\")\n",
        "print(mediana)\n",
        "print(\"\\nQuartis:\")\n",
        "print(\"Q1:\\n\", Q1)\n",
        "print(\"Q3:\\n\", Q3)\n",
        "print(\"\\nVariância:\")\n",
        "print(variancia)\n",
        "print(\"\\nDesvio Padrão:\")\n",
        "print(desvio_padrao)\n",
        "print(\"\\nCoeficiente de Variação (CV):\")\n",
        "print(CV)\n",
        "print(\"\\nIntervalo Interquartil (IIQ):\")\n",
        "print(IIQ)\n",
        "print(\"\\nLimites para identificação de outliers:\")\n",
        "print(\"Limite Superior:\\n\", limite_superior)\n",
        "print(\"Limite Inferior:\\n\", limite_inferior)\n",
        "\n",
        "\n"
      ],
      "metadata": {
        "colab": {
          "base_uri": "https://localhost:8080/"
        },
        "id": "2YpmEJ4lFtPV",
        "outputId": "1a8ec499-8e09-4006-a389-e772373f3aac"
      },
      "execution_count": null,
      "outputs": [
        {
          "output_type": "stream",
          "name": "stdout",
          "text": [
            "Medidas de resumo para 'Tempo' e 'reais' das pessoas que usaram lavada:\n",
            "       Tempo   reais\n",
            "count   41.0   41.00\n",
            "mean   102.0  201.66\n",
            "std     14.3   26.42\n",
            "min     74.0  159.00\n",
            "25%     93.0  185.00\n",
            "50%    104.0  185.00\n",
            "75%    109.0  219.00\n",
            "max    137.0  259.00\n",
            "\n",
            "Mediana:\n",
            "Tempo    104.0\n",
            "reais    185.0\n",
            "dtype: float64\n",
            "\n",
            "Quartis:\n",
            "Q1:\n",
            " Tempo     93.0\n",
            "reais    185.0\n",
            "Name: 0.25, dtype: float64\n",
            "Q3:\n",
            " Tempo    109.0\n",
            "reais    219.0\n",
            "Name: 0.75, dtype: float64\n",
            "\n",
            "Variância:\n",
            "Tempo    204.50\n",
            "reais    697.98\n",
            "dtype: float64\n",
            "\n",
            "Desvio Padrão:\n",
            "Tempo    14.30\n",
            "reais    26.42\n",
            "dtype: float64\n",
            "\n",
            "Coeficiente de Variação (CV):\n",
            "Tempo    14.02\n",
            "reais    13.10\n",
            "dtype: float64\n",
            "\n",
            "Intervalo Interquartil (IIQ):\n",
            "Tempo    16.0\n",
            "reais    34.0\n",
            "dtype: float64\n",
            "\n",
            "Limites para identificação de outliers:\n",
            "Limite Superior:\n",
            " Tempo    133.0\n",
            "reais    270.0\n",
            "dtype: float64\n",
            "Limite Inferior:\n",
            " Tempo     69.0\n",
            "reais    134.0\n",
            "dtype: float64\n"
          ]
        }
      ]
    },
    {
      "cell_type": "markdown",
      "source": [
        "# Tabela 1.2: Tabela de medidas resumo de centro e variabilidade do tempo de permanência dos clientes no restaurante Recanto do Sabor, nos ambientes com lavanda e sem aroma\n",
        "\n",
        "| Variáveis                                             | Min   | Q1    | Med  | Média | Q3    | Máx   | CV   | IIQ | S    | S²     |\n",
        "|-------------------------------------------------------|-------|-------|------|-------|-------|-------|------|-----|------|--------|\n",
        "| Tempo de permanência do cliente no ambiente com lavanda  | 74,00 | 93,00 | 104,00 | 102,0 | 109,00 | 137,00 | 14,02 | 16  | 14,3 | 204,50 |\n",
        "| Tempo de permanência do cliente no ambiente sem aroma | 56,00 | 81,00 | 91,00 | 90,23 | 102,00 | 121,00 | 17,32 | 21,0 | 15,63 | 244,27 |\n"
      ],
      "metadata": {
        "id": "0EAR08BI5Hcp"
      }
    },
    {
      "cell_type": "markdown",
      "source": [
        "### Análise do Tempo com Lavanda:\n",
        "\n",
        "No ambiente com lavanda, o tempo médio de permanência dos clientes é de aproximadamente 102 minutos. Isso significa que, em média, os clientes passam um pouco mais de 1 hora e 40 minutos nesse ambiente. A variabilidade dos tempos de permanência, medida pelo desvio padrão de 14,3 minutos e pela variância de 204,50 minutos ao quadrado, é moderada, o que indica que os tempos de permanência dos clientes variam em torno da média, mas não de forma extrema.\n",
        "Ao analisar os quartis, observamos que o primeiro quartil (Q1) está em 93 minutos, o que significa que 25% dos clientes passaram menos de 93 minutos nos ambientes com lavanda. A mediana (Q2), que é o tempo no qual metade dos clientes passou mais e metade passou menos, é de 104 minutos. Por fim, o terceiro quartil (Q3) está em 109 minutos, indicando que 75% dos clientes passaram menos de 109 minutos no ambiente com lavanda.\n",
        "\n",
        "### Análise do Tempo sem Aroma:\n",
        "\n",
        "Nos ambientes sem aroma, o tempo médio de permanência dos clientes é de aproximadamente 90,23 minutos. Isso significa que, em média, os clientes passam cerca de 1 hora e 30 minutos nesses ambientes. A mediana do tempo de permanência é de 91 minutos, indicando que metade dos clientes passou menos de 91 minutos e metade passou mais.\n",
        "A variabilidade dos tempos de permanência, medida pelo desvio padrão de 15,63 minutos e pela variância de 244,27 minutos ao quadrado, também é moderada. Isso sugere que os tempos de permanência dos clientes variam em torno da média, mas não de forma extrema.\n",
        "Ao analisar os quartis, observamos que o primeiro quartil (Q1) está em 81 minutos, o que significa que 25% dos clientes passaram menos de 81 minutos nos ambientes sem aroma. A mediana (Q2), que é o tempo em que metade dos clientes passou mais e metade passou menos, é de 91 minutos. Por fim, o terceiro quartil (Q3) está em 102 minutos, indicando que 75% dos clientes passaram menos de 102 minutos no ambiente sem aroma.\n",
        "\n",
        "### Análise Geral:\n",
        "\n",
        "Ao comparar os dois ambientes, observamos que os clientes tendem a permanecer um pouco mais de tempo nos ambientes com lavanda, com uma média de cerca de 102 minutos, em comparação com aproximadamente 90 minutos nos ambientes sem aroma. Isso sugere que o aroma de lavanda pode estar contribuindo para prolongar a permanência dos clientes no restaurante.\n",
        "Ambos os ambientes exibem uma variabilidade moderada nos tempos de permanência, o que indica que há uma diversidade de comportamentos entre os clientes. No entanto, é importante notar que a diferença média de apenas 11,77 minutos entre os dois ambientes pode não ser tão significativa em termos práticos, especialmente considerando a variabilidade dos dados. Isso sugere que outros fatores além do aroma podem influenciar o tempo de permanência dos clientes.\n",
        "Quanto aos quartis, nos ambientes com lavanda, os dados mostram uma distribuição relativamente uniforme dos tempos de permanência entre os 25% mais baixos e os 50% do meio, com uma pequena dispersão entre os 25% dos clientes que passaram mais tempo. Por outro lado, nos ambientes sem aroma, os quartis indicam uma distribuição similar, com uma faixa um pouco menor entre Q1 e Q3, o que sugere uma concentração um pouco maior dos tempos de permanência em torno da mediana.\n",
        "Em ambos os casos, a mediana está próxima do terceiro quartil, o que sugere que a maioria dos clientes passa um tempo relativamente consistente no restaurante, com uma pequena porcentagem de clientes que passam consideravelmente mais tempo do que a maioria. Isso indica que, apesar das diferenças nos tempos médios de permanência, a maioria dos clientes tende a ter uma experiência semelhante em termos de duração da visita, independentemente do ambiente.\n"
      ],
      "metadata": {
        "id": "UpvwGmYh55CA"
      }
    },
    {
      "cell_type": "markdown",
      "source": [
        "# Tabela 1.3: Tabela de medidas resumo de centro e variabilidade dos reais gastos pelos clientes no restaurante Recanto do Sabor, nos ambientes com lavanda e sem aroma\n",
        "\n",
        "| Variáveis                                               | Min   | Q1    | Med   | Média  | Q3    | Máx   | CV    | IIQ  | S     | S²     |\n",
        "|---------------------------------------------------------|-------|-------|-------|--------|-------|-------|-------|------|-------|--------|\n",
        "| Reais gastos pelos clientes no ambiente com lavanda     | 159.00| 185.00| 185.00| 201.66 | 219.00| 259.00| 13.10 | 34.0 | 26.42 | 697.98 |\n",
        "| Reais gastos pelos clientes no ambiente sem aroma       | 129.00| 159.00| 185.00| 178.87 | 185.00| 259.00| 13.84 | 26.0 | 24.76 | 613.11 |\n"
      ],
      "metadata": {
        "id": "zAYyzgCm6MYV"
      }
    },
    {
      "cell_type": "markdown",
      "source": [
        "### Interpretação dos Reais com Lavanda:\n",
        "\n",
        "Nos ambientes com lavanda, os clientes gastam, em média, aproximadamente 201,66 reais. Isso sugere que o gasto médio por cliente nesse ambiente é em torno desse valor. A mediana dos gastos é de 185 reais, indicando que metade dos clientes gastou menos de 185 reais e metade gastou mais. Isso sugere uma distribuição relativamente equilibrada dos gastos. A variabilidade dos gastos, medida pelo desvio padrão de 26,42 reais e pela variância de 697,98 reais ao quadrado, é moderada, o que significa que os gastos dos clientes variam em torno da média, mas não de forma extrema. Os quartis mostram que há uma concentração significativa dos gastos dos clientes em torno de 185 reais, com uma faixa de variação relativamente ampla.\n",
        "\n",
        "No ambiente com lavanda, observamos que 25% dos clientes gastaram menos de 185 reais (primeiro quartil, Q1), enquanto 75% gastaram menos de 219 reais (terceiro quartil, Q3). Isso indica que a maioria dos clientes concentram seus gastos entre esses dois valores. A mediana dos gastos (Q2), que é de 185 reais, sugere que metade dos clientes gastou menos de 185 reais e metade gastou mais. Isso indica uma distribuição equilibrada dos gastos. A amplitude interquartil (IIQ), que é a diferença entre Q3 e Q1, é de 34 reais. Isso representa a faixa de gastos em que a maioria dos clientes se concentra, indicando uma certa consistência nos gastos dentro desse intervalo.\n",
        "\n",
        "### Interpretação dos Reais sem Aroma:\n",
        "\n",
        "Nos ambientes sem aroma do restaurante, os clientes gastam, em média, cerca de 178,87 reais. Isso sugere que, em média, os clientes gastam um pouco menos nesses ambientes em comparação com os ambientes com lavanda. Assim como nos ambientes com lavanda, a mediana dos gastos é de 185 reais, indicando uma distribuição equilibrada dos gastos entre os clientes. A variabilidade dos gastos, medida pelo desvio padrão de 24,76 reais e pela variância de 613,11 reais ao quadrado, também é moderada, sugerindo que os gastos dos clientes variam em torno da média, mas não de forma extrema. Os quartis revelam uma concentração semelhante dos gastos dos clientes em torno de 185 reais, com uma faixa de variação um pouco menor do que nos ambientes com lavanda.\n",
        "\n",
        "No ambiente sem aroma, 25% dos clientes gastaram menos de 159 reais (Q1), enquanto 75% gastaram menos de 185 reais (Q3). Isso indica uma distribuição de gastos semelhante à dos ambientes com lavanda, com a maioria dos clientes concentrando seus gastos em uma faixa específica. A mediana dos gastos (Q2), que também é de 185 reais, sugere uma distribuição equilibrada dos gastos, semelhante aos ambientes com lavanda. A amplitude interquartil (IIQ) é de 26 reais, indicando uma faixa ligeiramente menor em comparação com os ambientes com lavanda, mas ainda representando a faixa de gastos onde a maioria dos clientes se encontra.\n",
        "\n",
        "### Análise Geral:\n",
        "\n",
        "Ao comparar os dois ambientes do restaurante, percebemos que os clientes tendem a gastar um pouco mais nos locais com lavanda, apresentando uma média ligeiramente superior. Entretanto, essa diferença média nos gastos entre os ambientes não parece ser muito relevante em termos práticos.\n",
        "\n",
        "Tanto nos ambientes com lavanda quanto nos ambientes sem aroma, os gastos dos clientes se distribuem de forma equilibrada, com a maioria concentrando-se em torno da mediana de 185 reais. Além disso, a variabilidade dos gastos é moderada em ambos os casos, indicando que os gastos dos clientes variam em torno da média, porém sem extremos.\n",
        "\n",
        "A análise dos quartis revela que a maioria dos clientes concentra seus gastos em uma faixa específica, sugerindo uma certa consistência nos padrões de gastos. Apesar de algumas diferenças nos valores específicos dos quartis, a distribuição dos gastos parece ser similar em ambos os ambientes, com uma concentração expressiva dos gastos em torno da mediana.\n",
        "\n",
        "Esses resultados sugerem que, independentemente do ambiente, os clientes do restaurante Recanto do Sabor tendem a manter padrões de gastos relativamente consistentes, com uma variação moderada em relação à média.\n"
      ],
      "metadata": {
        "id": "qwsEQ3z16at4"
      }
    },
    {
      "cell_type": "code",
      "source": [
        "# Definindo uma paleta de cores\n",
        "cores = [\"#FF6347\", \"#1E90FF\"]\n",
        "\n",
        "# Criando o boxplot\n",
        "plt.figure(figsize=(10, 6))\n",
        "sns.boxplot(x='aroma', y='Tempo', data=dadosthamara, palette=cores)\n",
        "\n",
        "# Adicionando rótulos aos eixos\n",
        "plt.xlabel('Aromatização do Ambiente')\n",
        "plt.ylabel('Tempo')\n",
        "\n",
        "# Adicionando título na parte inferior\n",
        "plt.figtext(0.5, -0.05, 'Figura 1.2: Boxplot de Tempo em relação à Aromatização do Ambiente', ha='center', fontsize=12)\n",
        "\n",
        "# Ajustando layout para o título na parte inferior\n",
        "plt.tight_layout(rect=[0, 0.05, 1, 1])\n",
        "\n",
        "# Exibindo o gráfico\n",
        "plt.show()"
      ],
      "metadata": {
        "colab": {
          "base_uri": "https://localhost:8080/",
          "height": 742
        },
        "id": "E5xWb-u34xn7",
        "outputId": "a2399da5-07aa-41e9-b267-b2441e7e4ccd"
      },
      "execution_count": null,
      "outputs": [
        {
          "output_type": "stream",
          "name": "stderr",
          "text": [
            "<ipython-input-15-52a10e9276bc>:6: FutureWarning: \n",
            "\n",
            "Passing `palette` without assigning `hue` is deprecated and will be removed in v0.14.0. Assign the `x` variable to `hue` and set `legend=False` for the same effect.\n",
            "\n",
            "  sns.boxplot(x='aroma', y='Tempo', data=dadosthamara, palette=cores)\n"
          ]
        },
        {
          "output_type": "display_data",
          "data": {
            "text/plain": [
              "<Figure size 1000x600 with 1 Axes>"
            ],
            "image/png": "[encoded data removed]"
          },
          "metadata": {}
        }
      ]
    },
    {
      "cell_type": "code",
      "source": [
        "# Definindo cores para os boxplots\n",
        "cores = [\"#FF6347\", \"#1E90FF\"]\n",
        "\n",
        "# Criando o boxplot\n",
        "plt.figure(figsize=(10, 6))\n",
        "sns.boxplot(x='aroma', y='reais', data=dadosthamara, palette=cores)\n",
        "\n",
        "# Adicionando rótulos aos eixos\n",
        "plt.xlabel('Aromatização do Ambiente')\n",
        "plt.ylabel('Gastos em Reais')\n",
        "\n",
        "# Adicionando título na parte inferior\n",
        "plt.figtext(0.5, -0.05, 'Figura 1.1: Boxplot de Reais em relação à Aromatização do Ambiente', ha='center', fontsize=12)\n",
        "\n",
        "# Ajustando layout para o título na parte inferior\n",
        "plt.tight_layout(rect=[0, 0.05, 1, 1])\n"
      ],
      "metadata": {
        "colab": {
          "base_uri": "https://localhost:8080/",
          "height": 743
        },
        "id": "zApkQE-y7qud",
        "outputId": "600b7a3c-7936-46e0-e4b9-b2eb6ad0247f"
      },
      "execution_count": null,
      "outputs": [
        {
          "output_type": "stream",
          "name": "stderr",
          "text": [
            "<ipython-input-19-3d72d5ecaf2c>:6: FutureWarning: \n",
            "\n",
            "Passing `palette` without assigning `hue` is deprecated and will be removed in v0.14.0. Assign the `x` variable to `hue` and set `legend=False` for the same effect.\n",
            "\n",
            "  sns.boxplot(x='aroma', y='reais', data=dadosthamara, palette=cores)\n"
          ]
        },
        {
          "output_type": "display_data",
          "data": {
            "text/plain": [
              "<Figure size 1000x600 with 1 Axes>"
            ],
            "image/png": "[encoded data removed]"
          },
          "metadata": {}
        }
      ]
    },
    {
      "cell_type": "markdown",
      "source": [
        "# Ambientes com Aroma de Lavanda:\n",
        "\n",
        "Nos ambientes com aroma de lavanda, observamos uma distribuição dos gastos bastante uniforme, com a mediana dos gastos em torno de R$185,00. Isso sugere que metade dos clientes gastou menos de R$185,00, enquanto a outra metade gastou mais. Além disso, a ausência de outliers indica uma certa consistência nos padrões de gastos, com uma variabilidade moderada representada pela caixa relativamente estreita do boxplot. O primeiro quartil (Q1) e a mediana (Q2) têm o mesmo valor de R$185,00, o que sugere uma distribuição simétrica dos dados na metade inferior da distribuição, indicando uma concentração dos gastos em torno desse valor.\n",
        "\n",
        "## Ambientes sem Aroma:\n",
        "\n",
        "Nos ambientes sem aroma de lavanda, a distribuição dos gastos também é uniforme, com a mediana em torno de R$185,00. No entanto, há uma diferença significativa em relação aos ambientes com aroma: o terceiro quartil (Q3) também é igual à mediana (Q2), o que sugere uma concentração ainda mais forte dos gastos em torno desse valor. No entanto, foram identificados dois outliers acima do limite superior, indicando valores extremos nos gastos de alguns clientes. Apesar desses Outliers, a variabilidade dos gastos nos ambientes sem aroma também é moderada, como evidenciado pela caixa do boxplot.\n",
        "\n",
        "## Ao comparar os dois ambientes:\n",
        "\n",
        "Notamos que os padrões de gastos são bastante similares, com mediana e variabilidade praticamente idênticas. Tanto nos ambientes com aroma de lavanda quanto nos ambientes sem aroma, a mediana dos gastos é de aproximadamente R$185,00, indicando uma concentração significativa dos gastos em torno desse valor. Embora tenham sido identificados dois outliers nos ambientes sem aroma, a variabilidade dos gastos ainda é moderada, como evidenciado pela caixa do boxplot. Esses resultados sugerem que a presença do aroma de lavanda não teve um impacto significativo nos padrões de gastos dos clientes.\n"
      ],
      "metadata": {
        "id": "DZsYaE7p89Tb"
      }
    },
    {
      "cell_type": "markdown",
      "source": [
        "# Análise dos Ambientes\n",
        "\n",
        "## Ambiente com Lavanda\n",
        "\n",
        "No ambiente com lavanda, a presença desse aroma pode estar associada a uma distribuição mais uniforme dos tempos de permanência dos clientes. A mediana dos tempos de permanência é de aproximadamente 104 minutos, sugerindo que metade dos clientes passou menos de 104 minutos nesse ambiente. A presença de um outlier de 137 minutos indica que há casos de permanência significativamente mais longa. Os quartis revelam uma distribuição relativamente equilibrada dos tempos de permanência, com uma pequena dispersão entre os 25% dos clientes que passaram mais tempo. Isso sugere que o aroma de lavanda pode contribuir para uma experiência relaxante e prolongada no restaurante.\n",
        "\n",
        "## Ambiente sem Aroma\n",
        "\n",
        "Nos ambientes sem aroma de lavanda, os tempos de permanência dos clientes parecem ser mais consistentes em torno da mediana. A mediana dos tempos de permanência é de aproximadamente 91 minutos, indicando que metade dos clientes passou menos de 91 minutos nesse ambiente. Apesar de uma distribuição semelhante à dos ambientes com lavanda, não foram identificados outliers, indicando uma ausência de casos de permanência excepcionalmente longa. Os quartis revelam uma distribuição mais concentrada dos tempos de permanência em relação à mediana, sugerindo uma consistência nos padrões de permanência dos clientes.\n",
        "\n",
        "## Comparação dos Ambientes\n",
        "\n",
        "Na comparação dos ambientes, observamos diferenças marcantes nos quartis que destacam as características distintas dos dois cenários. A mediana dos tempos de permanência nos ambientes com lavanda, aproximadamente 104 minutos, é superior ao terceiro quartil (Q3) dos tempos nos ambientes sem aroma, que é de aproximadamente 102 minutos. Isso sugere que, no ambiente com lavanda, metade dos clientes permaneceu mais tempo do que 75% dos clientes nos ambientes sem aroma. Essa diferença destaca a potencial influência do aroma de lavanda na extensão da permanência dos clientes no restaurante.\n"
      ],
      "metadata": {
        "id": "5AetYrnXYx8_"
      }
    },
    {
      "cell_type": "code",
      "source": [
        "\n",
        "# Filtrando os dados onde 'aroma' é 'sem aroma'\n",
        "dados_sem_aroma = dadosthamara[dadosthamara['aroma'] == 'sem aroma']\n",
        "\n",
        "# Gráfico de dispersão para 'Tempo' vs 'Reais'\n",
        "plt.figure(figsize=(8, 6))\n",
        "sns.scatterplot(data=dados_sem_aroma, x='Tempo', y='reais', color='blue', alpha=0.7)\n",
        "plt.xlabel('Tempo em minutos')\n",
        "plt.ylabel('Quantidade de reais gasto no restaurante')\n",
        "plt.grid(True)\n",
        "plt.show()"
      ],
      "metadata": {
        "colab": {
          "base_uri": "https://localhost:8080/",
          "height": 542
        },
        "id": "XTpgUebKXAlp",
        "outputId": "bd4cbbe8-6c88-4298-c096-10694c4f97e6"
      },
      "execution_count": null,
      "outputs": [
        {
          "output_type": "display_data",
          "data": {
            "text/plain": [
              "<Figure size 800x600 with 1 Axes>"
            ],
            "image/png": "[encoded data removed]"
          },
          "metadata": {}
        }
      ]
    },
    {
      "cell_type": "code",
      "source": [
        "# Calculando o coeficiente de correlação (r) para os dados onde o aroma é 'sem aroma'\n",
        "numerator_sem_aroma = len(dados_sem_aroma) * np.sum(dados_sem_aroma['Tempo'] * dados_sem_aroma['reais']) - np.sum(dados_sem_aroma['Tempo']) * np.sum(dados_sem_aroma['reais'])\n",
        "denominator_sem_aroma = np.sqrt((len(dados_sem_aroma) * np.sum(dados_sem_aroma['Tempo'] ** 2) - np.sum(dados_sem_aroma['Tempo']) ** 2) * (len(dados_sem_aroma) * np.sum(dados_sem_aroma['reais'] ** 2) - np.sum(dados_sem_aroma['reais']) ** 2))\n",
        "correlation_sem_aroma = numerator_sem_aroma / denominator_sem_aroma\n",
        "\n",
        "print(\"Coeficiente de correlação (r) para os dados onde o aroma é 'sem aroma':\", correlation_sem_aroma)\n"
      ],
      "metadata": {
        "colab": {
          "base_uri": "https://localhost:8080/"
        },
        "id": "-4WQ_pkhPWvP",
        "outputId": "66765125-a860-4733-8182-7a6f238b7c42"
      },
      "execution_count": null,
      "outputs": [
        {
          "output_type": "stream",
          "name": "stdout",
          "text": [
            "Coeficiente de correlação (r) para os dados onde o aroma é 'sem aroma': 0.34229176189333343\n"
          ]
        }
      ]
    },
    {
      "cell_type": "markdown",
      "source": [
        "# Análise da Correlação entre Tempo e Gastos\n",
        "\n",
        "Com um coeficiente de correlação de 0,34, observamos uma correlação positiva fraca entre as duas variáveis. Isso sugere que, à medida que o tempo gasto no restaurante aumenta, geralmente o valor gasto também tende a aumentar, mas essa relação não é muito forte.\n"
      ],
      "metadata": {
        "id": "d0iKJ_jQcV8A"
      }
    },
    {
      "cell_type": "code",
      "source": [
        "\n",
        "# Filtrando os dados onde 'aroma' é 'lavanda'\n",
        "dados_lavada = dadosthamara[dadosthamara['aroma'] == 'lavanda']\n",
        "\n",
        "# Gráfico de dispersão para 'Tempo' vs 'Reais'\n",
        "plt.figure(figsize=(8, 6))\n",
        "sns.scatterplot(data=dados_lavada, x='Tempo', y='reais', color='red', alpha=0.7)\n",
        "plt.xlabel('Tempo em minutos')\n",
        "plt.ylabel('Quantidade de reais gasto no restaurante')\n",
        "plt.grid(True)\n",
        "plt.show()\n"
      ],
      "metadata": {
        "colab": {
          "base_uri": "https://localhost:8080/",
          "height": 542
        },
        "id": "b_8nlwC2NDfc",
        "outputId": "b54832e1-f4e8-499b-becd-87102baf7298"
      },
      "execution_count": null,
      "outputs": [
        {
          "output_type": "display_data",
          "data": {
            "text/plain": [
              "<Figure size 800x600 with 1 Axes>"
            ],
            "image/png": "[encoded data removed]"
          },
          "metadata": {}
        }
      ]
    },
    {
      "cell_type": "code",
      "source": [
        "# Calculando o coeficiente de correlação (r) para os dados onde o aroma é 'lavanda'\n",
        "numerator_lavanda = len(dados_lavanda) * np.sum(dados_lavanda['Tempo'] * dados_lavanda['reais']) - np.sum(dados_lavanda['Tempo']) * np.sum(dados_lavanda['reais'])\n",
        "denominator_lavanda = np.sqrt((len(dados_lavanda) * np.sum(dados_lavanda['Tempo'] ** 2) - np.sum(dados_lavanda['Tempo']) ** 2) * (len(dados_lavanda) * np.sum(dados_lavanda['reais'] ** 2) - np.sum(dados_lavanda['reais']) ** 2))\n",
        "correlation_lavanda = numerator_lavanda / denominator_lavanda\n",
        "\n",
        "print(\"Coeficiente de correlação (r) para os dados onde o aroma é 'lavanda':\", correlation_lavanda)\n",
        "\n"
      ],
      "metadata": {
        "colab": {
          "base_uri": "https://localhost:8080/"
        },
        "id": "KlwQvul4PaIe",
        "outputId": "ed653bb7-c513-4644-f72d-88a752c3fa86"
      },
      "execution_count": null,
      "outputs": [
        {
          "output_type": "stream",
          "name": "stdout",
          "text": [
            "Coeficiente de correlação (r) para os dados onde o aroma é 'lavanda': 0.4180722416559942\n"
          ]
        }
      ]
    },
    {
      "cell_type": "markdown",
      "source": [
        "# Análise da Correlação entre Tempo e Gastos\n",
        "\n",
        "Com um coeficiente de correlação de 0.418, podemos observar uma correlação positiva fraca entre o tempo de permanência e o valor gasto no caso do restaurante com aroma de lavanda. Isso sugere que, à medida que o tempo gasto no restaurante aumenta, geralmente o valor gasto também tende a aumentar, mas essa relação não é muito forte.\n"
      ],
      "metadata": {
        "id": "OG7Y1GzEbSv4"
      }
    },
    {
      "cell_type": "code",
      "source": [
        "import matplotlib.pyplot as plt\n",
        "\n",
        "# Filtrando os dados\n",
        "dados_sem_aroma = dadosthamara[dadosthamara['aroma'] == 'sem aroma']\n",
        "dados_lavada = dadosthamara[dadosthamara['aroma'] == 'lavanda']\n",
        "\n",
        "# Gráfico de dispersão para 'Tempo' vs 'Reais'\n",
        "plt.figure(figsize=(10, 8))\n",
        "\n",
        "# Plotando 'sem aroma'\n",
        "plt.scatter(dados_sem_aroma['Tempo'], dados_sem_aroma['reais'], color='blue', alpha=0.7, label='Sem aroma')\n",
        "\n",
        "# Plotando 'lavanda'\n",
        "plt.scatter(dados_lavada['Tempo'], dados_lavada['reais'], color='red', alpha=0.7, label='Lavanda')\n",
        "\n",
        "plt.title('Gráfico de Dispersão: Tempo vs Reais')\n",
        "plt.xlabel('Tempo em minutos')\n",
        "plt.ylabel('Quantidade de reais gasto no restaurante')\n",
        "plt.grid(True)\n",
        "plt.legend()\n",
        "plt.show()\n"
      ],
      "metadata": {
        "colab": {
          "base_uri": "https://localhost:8080/",
          "height": 719
        },
        "id": "F_63kzJ6NS-U",
        "outputId": "6898902d-a8a1-4736-c176-6df55b84acde"
      },
      "execution_count": null,
      "outputs": [
        {
          "output_type": "display_data",
          "data": {
            "text/plain": [
              "<Figure size 1000x800 with 1 Axes>"
            ],
            "image/png": "[encoded data removed]"
          },
          "metadata": {}
        }
      ]
    },
    {
      "cell_type": "markdown",
      "source": [
        "# Análise do Tempo com Lavanda\n",
        "\n",
        "No ambiente com lavanda, o tempo médio de permanência dos clientes é de aproximadamente 102 minutos. Isso significa que, em média, os clientes passam um pouco mais de 1 hora e 40 minutos nesse ambiente. A variabilidade dos tempos de permanência, medida pelo desvio padrão de 14,3 minutos e pela variância de 204,50 minutos ao quadrado, é moderada, o que indica que os tempos de permanência dos clientes variam em torno da média, mas não de forma extrema.\n",
        "\n",
        "Ao analisar os quartis, observamos que:\n",
        "- **Primeiro quartil (Q1):** 93 minutos. Isso significa que 25% dos clientes passaram menos de 93 minutos nos ambientes com lavanda.\n",
        "- **Mediana (Q2):** 104 minutos. Esse é o tempo no qual metade dos clientes passou mais e metade passou menos.\n",
        "- **Terceiro quartil (Q3):** 109 minutos. Isso indica que 75% dos clientes passaram menos de 109 minutos no ambiente com lavanda.\n",
        "\n",
        "# Conclusão\t: Análise do Tempo sem Aroma\n",
        "\n",
        "Nos ambientes sem aroma, o tempo médio de permanência dos clientes é de aproximadamente 90,23 minutos. Isso significa que, em média, os clientes passam cerca de 1 hora e 30 minutos nesses ambientes. A mediana do tempo de permanência é de 91 minutos, indicando que metade dos clientes passou menos de 91 minutos e metade passou mais.\n",
        "\n",
        "A variabilidade dos tempos de permanência, medida pelo desvio padrão de 15,63 minutos e pela variância de 244,27 minutos ao quadrado, também é moderada. Isso sugere que os tempos de permanência dos clientes variam em torno da média, mas não de forma extrema.\n",
        "\n",
        "Ao analisar os quartis, observamos que:\n",
        "- **Primeiro quartil (Q1):** 81 minutos. Isso significa que 25% dos clientes passaram menos de 81 minutos nos ambientes sem aroma.\n",
        "- **Mediana (Q2):** 91 minutos. Esse é o tempo no qual metade dos clientes passou mais e metade passou menos.\n",
        "- **Terceiro quartil (Q3):** 102 minutos. Isso indica que 75% dos clientes passaram menos de 102 minutos no ambiente sem aroma.\n",
        "\n",
        "# Análise Geral\n",
        "\n",
        "Ao comparar os dois ambientes, observamos que os clientes tendem a permanecer um pouco mais de tempo nos ambientes com lavanda, com uma média de cerca de 102 minutos, em comparação com aproximadamente 90 minutos nos ambientes sem aroma. Isso sugere que o aroma de lavanda pode estar contribuindo para prolongar a permanência dos clientes no restaurante.\n",
        "\n",
        "Ambos os ambientes exibem uma variabilidade moderada nos tempos de permanência, o que indica que há uma diversidade de comportamentos entre os clientes. No entanto, é importante notar que a diferença média de apenas 11,77 minutos entre os dois ambientes pode não ser tão significativa em termos práticos, especialmente considerando a variabilidade dos dados. Isso sugere que outros fatores além do aroma podem influenciar o tempo de permanência dos clientes.\n",
        "\n",
        "Quanto aos quartis:\n",
        "- Nos ambientes com lavanda, os dados mostram uma distribuição relativamente uniforme dos tempos de permanência entre os 25% mais baixos e os 50% do meio, com uma pequena dispersão entre os 25% dos clientes que passaram mais tempo.\n",
        "- Nos ambientes sem aroma, os quartis indicam uma distribuição similar, com uma faixa um pouco menor entre Q1 e Q3, o que sugere uma concentração um pouco maior dos tempos de permanência em torno da mediana.\n",
        "\n",
        "Em ambos os casos, a mediana está próxima do terceiro quartil, o que sugere que a maioria dos clientes passa um tempo relativamente consistente no restaurante, com uma pequena porcentagem de clientes que passam consideravelmente mais tempo do que a maioria. Isso indica que, apesar das diferenças nos tempos médios de permanência, a maioria dos clientes tende a ter uma experiência semelhante em termos de duração da visita, independentemente do ambiente.\n"
      ],
      "metadata": {
        "id": "2x1qXW0TavUj"
      }
    }
  ]
}